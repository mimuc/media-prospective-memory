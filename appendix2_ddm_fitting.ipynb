{
 "cells": [
  {
   "cell_type": "markdown",
   "metadata": {},
   "source": [
    "```\n",
    "# Copyright 2022 by the author(s) of CHI2023 submission \"Short-Form\n",
    "# Videos Degrade Our Capacity to Retain Intentions: Effect of Context\n",
    "# Switching On Prospective Memory\". All rights reserved.\n",
    "#\n",
    "# Use of this source code is governed by a GPLv3 license that\n",
    "# can be found in the LICENSE file.\n",
    "```"
   ]
  },
  {
   "cell_type": "markdown",
   "metadata": {},
   "source": [
    "This file provides the code to fit DDM mdoel."
   ]
  },
  {
   "cell_type": "code",
   "execution_count": null,
   "metadata": {},
   "outputs": [],
   "source": [
    "from typing import List\n",
    "import pandas as pd\n",
    "\n",
    "from pyddm import Sample, Model, Fittable\n",
    "from pyddm.models import DriftConstant, NoiseConstant, BoundConstant, OverlayNonDecision, LossRobustBIC\n",
    "from pyddm.functions import fit_adjust_model\n"
   ]
  },
  {
   "cell_type": "code",
   "execution_count": null,
   "metadata": {},
   "outputs": [],
   "source": [
    "def fit_ddm(df: pd.DataFrame, rt_column_name: str, correct_column_name: str) -> List[float]:\n",
    "    samples = Sample.from_pandas_dataframe(df, rt_column_name=rt_column_name, correct_column_name=correct_column_name)\n",
    "    m = Model(name='ddm',\n",
    "        drift=DriftConstant(drift=Fittable(minval=0, maxval=50)),\n",
    "        noise=NoiseConstant(noise=Fittable(minval=.5, maxval=4)),\n",
    "        bound=BoundConstant(B=Fittable(minval=.1, maxval=2)),\n",
    "        overlay=OverlayNonDecision(nondectime=Fittable(minval=0, maxval=1)),\n",
    "        dx=.001, dt=.0001, T_dur=3,\n",
    "    )\n",
    "    fit_adjust_model(samples, m, fitting_method=\"differential_evolution\", lossfunction=LossRobustBIC, verbose=False)\n",
    "    # drift, noise, bound, nondecisiontime\n",
    "    return [p.default() for p in m.get_model_parameters()]"
   ]
  },
  {
   "cell_type": "code",
   "execution_count": null,
   "metadata": {},
   "outputs": [],
   "source": [
    "\n",
    "df_rt = pd.read_csv('data/rt.csv')\n",
    "\n",
    "df_ddm = pd.DataFrame(columns=['folder_id', 'interrupt', 'task', 'measure', 'drift', 'noise', 'bound', 'nondectime'])\n",
    "for folder_id in df_rt.folder_id.unique():\n",
    "    for measure in ['pre', 'post']:\n",
    "        for task in ['LD', 'PM']:\n",
    "            df_data = df_rt[(df_rt.task == task) & (df_rt.folder_id == folder_id) & (df_rt.measure == measure) & (df_rt.success == True)]\n",
    "            params = fit_ddm(df_data.dropna(), 'rt', 'correct')\n",
    "            if str(folder_id)[0] == '1':\n",
    "                interrupt = 'rest'\n",
    "            elif str(folder_id)[0] == '2':\n",
    "                interrupt = 'tiktok'\n",
    "            elif str(folder_id)[0] == '3':\n",
    "                interrupt = 'youtube'\n",
    "            elif str(folder_id)[0] == '4':\n",
    "                interrupt = 'twitter'\n",
    "\n",
    "            df_ddm = df_ddm.append({\n",
    "                'folder_id': folder_id,\n",
    "                'interrupt': interrupt,\n",
    "                'task': task,\n",
    "                'measure': measure,\n",
    "                'drift': params[0],\n",
    "                'noise': params[1],\n",
    "                'bound': params[2],\n",
    "                'nondectime': params[3]}, ignore_index=True)\n",
    "            df_ddm.to_csv('data/ddm.csv', index=False)"
   ]
  },
  {
   "cell_type": "code",
   "execution_count": null,
   "metadata": {},
   "outputs": [],
   "source": [
    "df_ddm"
   ]
  }
 ],
 "metadata": {
  "kernelspec": {
   "display_name": "Python 3.9.12 ('stats')",
   "language": "python",
   "name": "python3"
  },
  "language_info": {
   "codemirror_mode": {
    "name": "ipython",
    "version": 3
   },
   "file_extension": ".py",
   "mimetype": "text/x-python",
   "name": "python",
   "nbconvert_exporter": "python",
   "pygments_lexer": "ipython3",
   "version": "3.9.12"
  },
  "orig_nbformat": 4,
  "vscode": {
   "interpreter": {
    "hash": "38adf9810862c32266a370470410564875161d3f1202a1bcada43e96429b1fee"
   }
  }
 },
 "nbformat": 4,
 "nbformat_minor": 2
}

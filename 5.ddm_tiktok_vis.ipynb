{
 "cells": [
  {
   "cell_type": "markdown",
   "metadata": {},
   "source": [
    "```\n",
    "# Copyright 2022 by the author(s) of CHI2023 submission \"Short-Form\n",
    "# Videos Degrade Our Capacity to Retain Intentions: Effect of Context\n",
    "# Switching On Prospective Memory\". All rights reserved.\n",
    "#\n",
    "# Use of this source code is governed by a GPLv3 license that\n",
    "# can be found in the LICENSE file.\n",
    "```"
   ]
  },
  {
   "cell_type": "code",
   "execution_count": 4,
   "metadata": {},
   "outputs": [],
   "source": [
    "import warnings\n",
    "warnings.filterwarnings(\"ignore\")\n",
    "\n",
    "import random, string\n",
    "from typing import List\n",
    "import numpy as np\n",
    "import pandas as pd\n",
    "import seaborn as sns\n",
    "from scipy.stats import ks_2samp\n",
    "import tensorflow as tf\n",
    "import tensorflow_probability as tfp\n",
    "\n",
    "from pyddm import Sample, Model, Fittable\n",
    "from pyddm.models import DriftConstant, NoiseConstant, BoundConstant, OverlayNonDecision, LossRobustBIC\n",
    "from pyddm.functions import fit_adjust_model, display_model\n",
    "import pyddm.plot\n",
    "import matplotlib.pyplot as plt\n",
    "plt.rcParams['text.usetex'] = True\n",
    "plt.rcParams['text.latex.preamble'] = r'''\\usepackage{libertine}\\usepackage{fontawesome5}\\usepackage[dvipsnames]{xcolor}'''\n",
    "plt.rcParams['ps.usedistiller'] = 'xpdf'\n",
    "\n",
    "from stats import fit_ex_gaussian"
   ]
  },
  {
   "cell_type": "code",
   "execution_count": 5,
   "metadata": {},
   "outputs": [],
   "source": [
    "df_rt = pd.read_csv('data/rt.csv')"
   ]
  },
  {
   "cell_type": "code",
   "execution_count": 6,
   "metadata": {},
   "outputs": [],
   "source": [
    "def fit_ddm(df: pd.DataFrame, rt_column_name: str, correct_column_name: str, show=False) -> List[float]:\n",
    "    samples = Sample.from_pandas_dataframe(df, rt_column_name=rt_column_name, correct_column_name=correct_column_name)\n",
    "    m = Model(name='ddm',\n",
    "        drift=DriftConstant(drift=Fittable(minval=0, maxval=50)),\n",
    "        noise=NoiseConstant(noise=Fittable(minval=.5, maxval=4)),\n",
    "        bound=BoundConstant(B=Fittable(minval=.1, maxval=2)),\n",
    "        overlay=OverlayNonDecision(nondectime=Fittable(minval=0, maxval=1)),\n",
    "        dx=.001, dt=.0001, T_dur=3,\n",
    "    )\n",
    "    fit_adjust_model(samples, m, fitting_method=\"differential_evolution\", lossfunction=LossRobustBIC, verbose=False)\n",
    "    if show:\n",
    "        pyddm.plot.plot_fit_diagnostics(model=m, sample=samples)\n",
    "        display_model(m)\n",
    "    # drift, noise, bound, nondecisiontime\n",
    "    return [p.default() for p in m.get_model_parameters()]\n",
    "\n",
    "def brownian_motion(N, T, h):\n",
    "    \"\"\"\n",
    "    Simulates a Brownian motion\n",
    "    :param int N : the number of discrete steps\n",
    "    :param int T: the number of continuous time steps\n",
    "    :param float h: the variance of the increments\n",
    "    \"\"\"\n",
    "    dt = 1. * T/N                                                      # the normalizing constant\n",
    "    random_increments = np.random.normal(0.0, 1.0 * h, N)*np.sqrt(dt)  # the epsilon values\n",
    "    brownian_motion = np.cumsum(random_increments)                     # calculate the brownian motion\n",
    "    brownian_motion = np.insert(brownian_motion, 0, 0.0)               # insert the initial condition\n",
    "    return brownian_motion\n",
    "\n",
    "def drifted_brownian_motion(mu, sigma, bound, T, N=500):\n",
    "    \"\"\"Simulates a Brownian Motion with drift.\n",
    "    :param float mu: drift coefficient\n",
    "    :param float sigma: volatility coefficient\n",
    "    :param int T: number of continuous time steps\n",
    "    :param int N : number of discrete steps\n",
    "    :returns list: drifted Brownian motion\n",
    "    \"\"\"\n",
    "    while True:\n",
    "        W = brownian_motion(N, T, 1.0)\n",
    "        time_steps = np.linspace(0.0, N*(1. * T/N), N+1) # generate the time steps\n",
    "        Y = mu * time_steps + sigma * W                  # calculate the Brownian Motion with drift\n",
    "        # find the first vaule bigger than bound\n",
    "        indices = np.where(abs(Y) >= bound)\n",
    "        if len(indices[0]) > 0:\n",
    "            break\n",
    "    return time_steps[:indices[0][0]], Y[:indices[0][0]]"
   ]
  },
  {
   "cell_type": "code",
   "execution_count": 7,
   "metadata": {},
   "outputs": [],
   "source": [
    "def plot_diffusion(ax1, ax2, ax3, drift, noise, bound, non_decision_time, ground_truth, color_simulate='steelblue', color_true='red'):\n",
    "    colors = sns.color_palette('vlag', as_cmap=False, n_colors=10)\n",
    "    c1 = colors[0]\n",
    "    c2 = colors[-1]\n",
    "    color_simulate = c1\n",
    "    color_true = c2\n",
    "\n",
    "    Tmax = 3\n",
    "\n",
    "    # configure x limit\n",
    "    ax1.set_xlim(0, Tmax)\n",
    "    ax2.set_xlim(0, Tmax)\n",
    "    ax3.set_xlim(0, Tmax)\n",
    "\n",
    "    # draw ground truth\n",
    "    rts_true = ground_truth[ground_truth.correct == True].rt\n",
    "    ax1.hist(rts_true, bins=50, color=color_simulate, alpha=.25)\n",
    "    rts_false = ground_truth[ground_truth.correct == False].rt\n",
    "    ax3.hist(rts_false, bins=50, color=color_true, alpha=.25)\n",
    "    correct_grountruth = np.array([t==True for t in ground_truth.correct.values])\n",
    "    ax1.text(.99, .9,  f'accuracy: {correct_grountruth.mean()*100:.2f}\\%',  ha='right', va='top',    transform=ax1.transAxes, fontsize=8)\n",
    "    ax3.text(.99, .05, f'error: {100 - correct_grountruth.mean()*100:.2f}\\%', ha='right', va='bottom', transform=ax3.transAxes, fontsize=8)\n",
    "\n",
    "    # make sure top and bottom distributions have the same y-axis scale.\n",
    "    y1max = ax1.get_ylim()[1]\n",
    "    y3max = ax3.get_ylim()[1]\n",
    "    ymax = max(y1max,y3max)\n",
    "    ax1.set(ylim=(0, ymax))\n",
    "    ax3.set(ylim=(0, ymax))\n",
    "    ax3.invert_yaxis()\n",
    "\n",
    "    # setup DDM bound\n",
    "    ax2.set(ylim=(-bound, bound))\n",
    "\n",
    "    # simulate DDM\n",
    "    trials = [drifted_brownian_motion(drift, noise, bound, Tmax) for _ in range(200)]\n",
    "    correct = np.array([t[-1] > 0 for _, t in trials])\n",
    "\n",
    "    hist_correct = []\n",
    "    hist_error   = []\n",
    "    upDrawed = False\n",
    "    downDrawed = False\n",
    "    for i, v in enumerate(correct):\n",
    "        x, y = trials[i]\n",
    "        if v:\n",
    "            draw = y > -bound/4\n",
    "            if False not in draw:\n",
    "                ax2.plot(non_decision_time+x, y, alpha=.15, c=color_simulate, zorder=0, lw=0.3)\n",
    "                if 0.5 < x[-1] < 1 and not upDrawed:\n",
    "                    ax2.plot(non_decision_time+x, y, alpha=1, c=color_simulate, lw=1)\n",
    "                    upDrawed = True\n",
    "            hist_correct.append(x[-1])\n",
    "        else:\n",
    "            draw = y < bound/4\n",
    "            if False not in draw:\n",
    "                ax2.plot(non_decision_time+x, y, alpha=.15, c=color_true, zorder=0, lw=0.3)\n",
    "                if 0.5 < x[-1] < 1 and not downDrawed:\n",
    "                    ax2.plot(non_decision_time+x, y, alpha=1, c=color_true, lw=1)\n",
    "                    downDrawed = True\n",
    "            hist_error.append(x[-1])\n",
    "\n",
    "    # Draw correct key press distribution.\n",
    "    # Fit ex-gaussian until the error is below 1%\n",
    "    corrects = non_decision_time+np.array(hist_correct)\n",
    "    for _ in range(10):\n",
    "        loc, scale, rate = fit_ex_gaussian(corrects, progress=True)\n",
    "        y_pred = np.random.exponential(scale=1/rate, size=100) + np.random.normal(loc=loc, scale=scale, size=100)\n",
    "        r = ks_2samp(corrects, y_pred)\n",
    "        if r.pvalue >= 0.5:\n",
    "            break\n",
    "    p_y = tfp.distributions.ExponentiallyModifiedGaussian(loc=loc, scale=scale, rate=rate)\n",
    "    x_t = np.linspace(0, Tmax, 500)\n",
    "    y_line = p_y.prob(x_t)\n",
    "    ax1.plot(x_t, y_line * y1max/2, label=\"y_estimate\", color='steelblue')\n",
    "\n",
    "    # Same here.\n",
    "    errors   = non_decision_time+np.array(hist_error)\n",
    "    for _ in range(10):\n",
    "        try:\n",
    "            loc, scale, rate = fit_ex_gaussian(errors, progress=True)\n",
    "            y_pred = np.random.exponential(scale=1/rate, size=100) + np.random.normal(loc=loc, scale=scale, size=100)\n",
    "            r = ks_2samp(corrects, y_pred)\n",
    "            if r.pvalue >= 0.5:\n",
    "                break\n",
    "        except:\n",
    "            pass\n",
    "    p_y = tfp.distributions.ExponentiallyModifiedGaussian(loc=loc, scale=scale, rate=rate)\n",
    "    x_t = np.linspace(0, Tmax, 500)\n",
    "    y_line = p_y.prob(x_t)\n",
    "    ax3.plot(x_t, y_line * y3max/2, label=\"y_estimate\", color=color_true)\n",
    "\n",
    "    # Draw non-decision time and decision bound.\n",
    "    ax2.axhline(y=bound, xmin=0, xmax=3, c='black', lw=1, linestyle='--')\n",
    "    ax2.axhline(y=0, xmin=0, xmax=non_decision_time/3, c='black', lw=1, linestyle='--') # why this has to divide by 3?\n",
    "    ax2.axhline(y=-bound, xmin=0, xmax=3, c='black', lw=1, linestyle='--')\n",
    "    ax2.text(2.98, bound-0.3,  f'decision upper bound $B={bound:.2f}$',  ha='right', va='top', fontsize=8)\n",
    "    ax2.text(2.98, -bound+0.5, f'decision lower bound $B={-bound:.2f}$',  ha='right', va='top', fontsize=8)\n",
    "    ax2.text(0.02, -0.3, f'non-decision\\ntime~$t={non_decision_time*1000:.0f}$ms', ha='left', va='bottom', fontsize=8)\n",
    "\n",
    "    ax2.text(0.02, -bound+0.25, f'drift~~$\\mu={drift:.2f}$\\n variance~$\\sigma={noise:.2f}$', ha='left', va='bottom', c='black', fontsize=8)\n",
    "\n",
    "    # Draw simulated distribution\n",
    "    ax1.hist(corrects, bins=50, color=color_simulate)\n",
    "    ax3.hist(errors, bins=50, color=color_true)\n",
    "\n",
    "    # annotate axes labels.\n",
    "    ax3.set_xticks(ax3.get_xticks().tolist())\n",
    "    ax3.set_xticklabels([f'{x*1000:.0f}' for x in ax3.get_xticks()])\n",
    "    ax2.set_yticks(ax2.get_yticks().tolist())\n",
    "    ax2.set_yticklabels([f'{x:.0f}' for x in ax2.get_yticks()])\n",
    "\n",
    "    ax1.set(ylabel='Counts')\n",
    "    ax2.set(ylabel='Decision Process')\n",
    "    ax3.set(xlabel='RTs (ms)', ylabel='Counts')"
   ]
  },
  {
   "cell_type": "code",
   "execution_count": 8,
   "metadata": {},
   "outputs": [],
   "source": [
    "def fit_and_draw_ddm(task, interrupt, interruptName, measure, seed=42):\n",
    "    random.seed(seed)\n",
    "    np.random.seed(seed)\n",
    "    tf.random.set_seed(seed)\n",
    "    ddm_data = df_rt[(df_rt.task == task) & (df_rt.success == True) & (df_rt.interrupt == interrupt) & (df_rt.measure == measure)]\n",
    "    print('fitting:', task, interrupt, measure)\n",
    "    params = fit_ddm(ddm_data, 'rt', 'correct', show=False)\n",
    "    f, (ax1, ax2, ax3) = plt.subplots(3, sharex=True, gridspec_kw={'height_ratios': (.25, .5, .25)})\n",
    "    plot_diffusion(ax1, ax2, ax3, params[0], params[1], params[2], params[3], ddm_data)\n",
    "    ax1.set_title(f'Fitted DDM for {interruptName} {string.capwords(measure)}-interruption RTs')\n",
    "    f = f'figures/fig6_ddm_{task}_{interrupt}_{measure}_{seed}.pdf'\n",
    "    print('saving to: ', f)\n",
    "    plt.savefig(f, dpi=300, bbox_inches='tight')\n",
    "    plt.cla()"
   ]
  },
  {
   "cell_type": "code",
   "execution_count": 9,
   "metadata": {},
   "outputs": [
    {
     "name": "stdout",
     "output_type": "stream",
     "text": [
      "fitting: PM tiktok pre\n"
     ]
    },
    {
     "name": "stderr",
     "output_type": "stream",
     "text": [
      "Info: Params [1.46260285 1.88944687 1.93592873 0.46076796] gave 457.12785448071037\n"
     ]
    },
    {
     "data": {
      "application/vnd.jupyter.widget-view+json": {
       "model_id": "4e642a8a000d41f68aea022fb4bee892",
       "version_major": 2,
       "version_minor": 0
      },
      "text/plain": [
       "Training:   0%|           0/500 ETA: ?s,  ?epochs/s"
      ]
     },
     "metadata": {},
     "output_type": "display_data"
    },
    {
     "name": "stderr",
     "output_type": "stream",
     "text": [
      "2022-11-30 19:45:55.455686: W tensorflow/core/platform/profile_utils/cpu_utils.cc:128] Failed to get CPU frequency: 0 Hz\n"
     ]
    },
    {
     "name": "stdout",
     "output_type": "stream",
     "text": [
      "Warning:tensorflow:AutoGraph could not transform <function fit_ex_gaussian.<locals>.<lambda> at 0x17b3ae1f0> and will run it as-is.\n",
      "Cause: could not parse the source code of <function fit_ex_gaussian.<locals>.<lambda> at 0x17b3ae1f0>: no matching AST found among candidates:\n",
      "# coding=utf-8\n",
      "lambda y, distr: -distr.log_prob(y)\n",
      "# coding=utf-8\n",
      "lambda t: tfp.distributions.ExponentiallyModifiedGaussian(loc=t[..., :1], scale=0.001 + tf.math.softplus(0.05 * t[..., 1:]), rate=tf.math.softplus(t[..., 2:]))\n",
      "To silence this warning, decorate the function with @tf.autograph.experimental.do_not_convert\n",
      "WARNING: AutoGraph could not transform <function fit_ex_gaussian.<locals>.<lambda> at 0x17b3ae1f0> and will run it as-is.\n",
      "Cause: could not parse the source code of <function fit_ex_gaussian.<locals>.<lambda> at 0x17b3ae1f0>: no matching AST found among candidates:\n",
      "# coding=utf-8\n",
      "lambda y, distr: -distr.log_prob(y)\n",
      "# coding=utf-8\n",
      "lambda t: tfp.distributions.ExponentiallyModifiedGaussian(loc=t[..., :1], scale=0.001 + tf.math.softplus(0.05 * t[..., 1:]), rate=tf.math.softplus(t[..., 2:]))\n",
      "To silence this warning, decorate the function with @tf.autograph.experimental.do_not_convert\n"
     ]
    },
    {
     "data": {
      "application/vnd.jupyter.widget-view+json": {
       "model_id": "75599dd5ef634abba224ed3783be889c",
       "version_major": 2,
       "version_minor": 0
      },
      "text/plain": [
       "Training:   0%|           0/500 ETA: ?s,  ?epochs/s"
      ]
     },
     "metadata": {},
     "output_type": "display_data"
    },
    {
     "name": "stdout",
     "output_type": "stream",
     "text": [
      "Warning:tensorflow:AutoGraph could not transform <function fit_ex_gaussian.<locals>.<lambda> at 0x17f0dc9d0> and will run it as-is.\n",
      "Cause: could not parse the source code of <function fit_ex_gaussian.<locals>.<lambda> at 0x17f0dc9d0>: no matching AST found among candidates:\n",
      "# coding=utf-8\n",
      "lambda y, distr: -distr.log_prob(y)\n",
      "# coding=utf-8\n",
      "lambda t: tfp.distributions.ExponentiallyModifiedGaussian(loc=t[..., :1], scale=0.001 + tf.math.softplus(0.05 * t[..., 1:]), rate=tf.math.softplus(t[..., 2:]))\n",
      "To silence this warning, decorate the function with @tf.autograph.experimental.do_not_convert\n",
      "WARNING: AutoGraph could not transform <function fit_ex_gaussian.<locals>.<lambda> at 0x17f0dc9d0> and will run it as-is.\n",
      "Cause: could not parse the source code of <function fit_ex_gaussian.<locals>.<lambda> at 0x17f0dc9d0>: no matching AST found among candidates:\n",
      "# coding=utf-8\n",
      "lambda y, distr: -distr.log_prob(y)\n",
      "# coding=utf-8\n",
      "lambda t: tfp.distributions.ExponentiallyModifiedGaussian(loc=t[..., :1], scale=0.001 + tf.math.softplus(0.05 * t[..., 1:]), rate=tf.math.softplus(t[..., 2:]))\n",
      "To silence this warning, decorate the function with @tf.autograph.experimental.do_not_convert\n"
     ]
    },
    {
     "data": {
      "application/vnd.jupyter.widget-view+json": {
       "model_id": "4e8d6f80fcf74fd1ad1953250e5be094",
       "version_major": 2,
       "version_minor": 0
      },
      "text/plain": [
       "Training:   0%|           0/500 ETA: ?s,  ?epochs/s"
      ]
     },
     "metadata": {},
     "output_type": "display_data"
    },
    {
     "name": "stdout",
     "output_type": "stream",
     "text": [
      "Warning:tensorflow:AutoGraph could not transform <function fit_ex_gaussian.<locals>.<lambda> at 0x17fd2a820> and will run it as-is.\n",
      "Cause: could not parse the source code of <function fit_ex_gaussian.<locals>.<lambda> at 0x17fd2a820>: no matching AST found among candidates:\n",
      "# coding=utf-8\n",
      "lambda y, distr: -distr.log_prob(y)\n",
      "# coding=utf-8\n",
      "lambda t: tfp.distributions.ExponentiallyModifiedGaussian(loc=t[..., :1], scale=0.001 + tf.math.softplus(0.05 * t[..., 1:]), rate=tf.math.softplus(t[..., 2:]))\n",
      "To silence this warning, decorate the function with @tf.autograph.experimental.do_not_convert\n",
      "WARNING: AutoGraph could not transform <function fit_ex_gaussian.<locals>.<lambda> at 0x17fd2a820> and will run it as-is.\n",
      "Cause: could not parse the source code of <function fit_ex_gaussian.<locals>.<lambda> at 0x17fd2a820>: no matching AST found among candidates:\n",
      "# coding=utf-8\n",
      "lambda y, distr: -distr.log_prob(y)\n",
      "# coding=utf-8\n",
      "lambda t: tfp.distributions.ExponentiallyModifiedGaussian(loc=t[..., :1], scale=0.001 + tf.math.softplus(0.05 * t[..., 1:]), rate=tf.math.softplus(t[..., 2:]))\n",
      "To silence this warning, decorate the function with @tf.autograph.experimental.do_not_convert\n"
     ]
    },
    {
     "data": {
      "application/vnd.jupyter.widget-view+json": {
       "model_id": "72999ab39bf143819418f8b656322363",
       "version_major": 2,
       "version_minor": 0
      },
      "text/plain": [
       "Training:   0%|           0/500 ETA: ?s,  ?epochs/s"
      ]
     },
     "metadata": {},
     "output_type": "display_data"
    },
    {
     "name": "stdout",
     "output_type": "stream",
     "text": [
      "Warning:tensorflow:AutoGraph could not transform <function fit_ex_gaussian.<locals>.<lambda> at 0x298e1d280> and will run it as-is.\n",
      "Cause: could not parse the source code of <function fit_ex_gaussian.<locals>.<lambda> at 0x298e1d280>: no matching AST found among candidates:\n",
      "# coding=utf-8\n",
      "lambda y, distr: -distr.log_prob(y)\n",
      "# coding=utf-8\n",
      "lambda t: tfp.distributions.ExponentiallyModifiedGaussian(loc=t[..., :1], scale=0.001 + tf.math.softplus(0.05 * t[..., 1:]), rate=tf.math.softplus(t[..., 2:]))\n",
      "To silence this warning, decorate the function with @tf.autograph.experimental.do_not_convert\n",
      "WARNING: AutoGraph could not transform <function fit_ex_gaussian.<locals>.<lambda> at 0x298e1d280> and will run it as-is.\n",
      "Cause: could not parse the source code of <function fit_ex_gaussian.<locals>.<lambda> at 0x298e1d280>: no matching AST found among candidates:\n",
      "# coding=utf-8\n",
      "lambda y, distr: -distr.log_prob(y)\n",
      "# coding=utf-8\n",
      "lambda t: tfp.distributions.ExponentiallyModifiedGaussian(loc=t[..., :1], scale=0.001 + tf.math.softplus(0.05 * t[..., 1:]), rate=tf.math.softplus(t[..., 2:]))\n",
      "To silence this warning, decorate the function with @tf.autograph.experimental.do_not_convert\n",
      "saving to:  figures/ddm_PM_tiktok_pre_42.pdf\n",
      "fitting: PM tiktok post\n"
     ]
    },
    {
     "name": "stderr",
     "output_type": "stream",
     "text": [
      "Info: Params [0.         2.34798562 1.71167503 0.68069025] gave 461.4626110965323\n"
     ]
    },
    {
     "data": {
      "application/vnd.jupyter.widget-view+json": {
       "model_id": "4f7959898f0145f382f391b98bac2fb8",
       "version_major": 2,
       "version_minor": 0
      },
      "text/plain": [
       "Training:   0%|           0/500 ETA: ?s,  ?epochs/s"
      ]
     },
     "metadata": {},
     "output_type": "display_data"
    },
    {
     "name": "stdout",
     "output_type": "stream",
     "text": [
      "Warning:tensorflow:AutoGraph could not transform <function fit_ex_gaussian.<locals>.<lambda> at 0x299bb8670> and will run it as-is.\n",
      "Cause: could not parse the source code of <function fit_ex_gaussian.<locals>.<lambda> at 0x299bb8670>: no matching AST found among candidates:\n",
      "# coding=utf-8\n",
      "lambda y, distr: -distr.log_prob(y)\n",
      "# coding=utf-8\n",
      "lambda t: tfp.distributions.ExponentiallyModifiedGaussian(loc=t[..., :1], scale=0.001 + tf.math.softplus(0.05 * t[..., 1:]), rate=tf.math.softplus(t[..., 2:]))\n",
      "To silence this warning, decorate the function with @tf.autograph.experimental.do_not_convert\n",
      "WARNING: AutoGraph could not transform <function fit_ex_gaussian.<locals>.<lambda> at 0x299bb8670> and will run it as-is.\n",
      "Cause: could not parse the source code of <function fit_ex_gaussian.<locals>.<lambda> at 0x299bb8670>: no matching AST found among candidates:\n",
      "# coding=utf-8\n",
      "lambda y, distr: -distr.log_prob(y)\n",
      "# coding=utf-8\n",
      "lambda t: tfp.distributions.ExponentiallyModifiedGaussian(loc=t[..., :1], scale=0.001 + tf.math.softplus(0.05 * t[..., 1:]), rate=tf.math.softplus(t[..., 2:]))\n",
      "To silence this warning, decorate the function with @tf.autograph.experimental.do_not_convert\n"
     ]
    },
    {
     "data": {
      "application/vnd.jupyter.widget-view+json": {
       "model_id": "671b1d5f210c40f2ac55e2da7cdd65d2",
       "version_major": 2,
       "version_minor": 0
      },
      "text/plain": [
       "Training:   0%|           0/500 ETA: ?s,  ?epochs/s"
      ]
     },
     "metadata": {},
     "output_type": "display_data"
    },
    {
     "name": "stdout",
     "output_type": "stream",
     "text": [
      "Warning:tensorflow:AutoGraph could not transform <function fit_ex_gaussian.<locals>.<lambda> at 0x17e389c10> and will run it as-is.\n",
      "Cause: could not parse the source code of <function fit_ex_gaussian.<locals>.<lambda> at 0x17e389c10>: no matching AST found among candidates:\n",
      "# coding=utf-8\n",
      "lambda y, distr: -distr.log_prob(y)\n",
      "# coding=utf-8\n",
      "lambda t: tfp.distributions.ExponentiallyModifiedGaussian(loc=t[..., :1], scale=0.001 + tf.math.softplus(0.05 * t[..., 1:]), rate=tf.math.softplus(t[..., 2:]))\n",
      "To silence this warning, decorate the function with @tf.autograph.experimental.do_not_convert\n",
      "WARNING: AutoGraph could not transform <function fit_ex_gaussian.<locals>.<lambda> at 0x17e389c10> and will run it as-is.\n",
      "Cause: could not parse the source code of <function fit_ex_gaussian.<locals>.<lambda> at 0x17e389c10>: no matching AST found among candidates:\n",
      "# coding=utf-8\n",
      "lambda y, distr: -distr.log_prob(y)\n",
      "# coding=utf-8\n",
      "lambda t: tfp.distributions.ExponentiallyModifiedGaussian(loc=t[..., :1], scale=0.001 + tf.math.softplus(0.05 * t[..., 1:]), rate=tf.math.softplus(t[..., 2:]))\n",
      "To silence this warning, decorate the function with @tf.autograph.experimental.do_not_convert\n"
     ]
    },
    {
     "data": {
      "application/vnd.jupyter.widget-view+json": {
       "model_id": "fd2cf1ed872d408caf6897ba7706c324",
       "version_major": 2,
       "version_minor": 0
      },
      "text/plain": [
       "Training:   0%|           0/500 ETA: ?s,  ?epochs/s"
      ]
     },
     "metadata": {},
     "output_type": "display_data"
    },
    {
     "name": "stdout",
     "output_type": "stream",
     "text": [
      "Warning:tensorflow:AutoGraph could not transform <function fit_ex_gaussian.<locals>.<lambda> at 0x29982d3a0> and will run it as-is.\n",
      "Cause: could not parse the source code of <function fit_ex_gaussian.<locals>.<lambda> at 0x29982d3a0>: no matching AST found among candidates:\n",
      "# coding=utf-8\n",
      "lambda y, distr: -distr.log_prob(y)\n",
      "# coding=utf-8\n",
      "lambda t: tfp.distributions.ExponentiallyModifiedGaussian(loc=t[..., :1], scale=0.001 + tf.math.softplus(0.05 * t[..., 1:]), rate=tf.math.softplus(t[..., 2:]))\n",
      "To silence this warning, decorate the function with @tf.autograph.experimental.do_not_convert\n",
      "WARNING: AutoGraph could not transform <function fit_ex_gaussian.<locals>.<lambda> at 0x29982d3a0> and will run it as-is.\n",
      "Cause: could not parse the source code of <function fit_ex_gaussian.<locals>.<lambda> at 0x29982d3a0>: no matching AST found among candidates:\n",
      "# coding=utf-8\n",
      "lambda y, distr: -distr.log_prob(y)\n",
      "# coding=utf-8\n",
      "lambda t: tfp.distributions.ExponentiallyModifiedGaussian(loc=t[..., :1], scale=0.001 + tf.math.softplus(0.05 * t[..., 1:]), rate=tf.math.softplus(t[..., 2:]))\n",
      "To silence this warning, decorate the function with @tf.autograph.experimental.do_not_convert\n",
      "saving to:  figures/ddm_PM_tiktok_post_42.pdf\n"
     ]
    },
    {
     "data": {
      "image/png": "[encoded data removed]",
      "text/plain": [
       "<Figure size 432x288 with 3 Axes>"
      ]
     },
     "metadata": {
      "needs_background": "light"
     },
     "output_type": "display_data"
    },
    {
     "data": {
      "image/png": "[encoded data removed]",
      "text/plain": [
       "<Figure size 432x288 with 3 Axes>"
      ]
     },
     "metadata": {
      "needs_background": "light"
     },
     "output_type": "display_data"
    }
   ],
   "source": [
    "seed = 42\n",
    "task = 'PM'\n",
    "\n",
    "fit_and_draw_ddm('PM', 'tiktok', 'TikTok', 'pre', seed)\n",
    "fit_and_draw_ddm('PM', 'tiktok', 'TikTok', 'post', seed)\n",
    "\n",
    "# fit_and_draw_ddm('PM', 'twitter', 'Twitter', 'pre', seed)\n",
    "# fit_and_draw_ddm('PM', 'twitter', 'Twitter', 'post', seed)\n",
    "\n",
    "# fit_and_draw_ddm('PM', 'youtube', 'YouTube', 'pre', seed)\n",
    "# fit_and_draw_ddm('PM', 'youtube', 'YouTube', 'post', seed)\n",
    "\n",
    "# fit_and_draw_ddm('PM', 'rest', 'Rest', 'pre', seed)\n",
    "# fit_and_draw_ddm('PM', 'rest', 'Rest', 'post', seed)"
   ]
  }
 ],
 "metadata": {
  "kernelspec": {
   "display_name": "Python 3",
   "language": "python",
   "name": "python3"
  },
  "language_info": {
   "codemirror_mode": {
    "name": "ipython",
    "version": 3
   },
   "file_extension": ".py",
   "mimetype": "text/x-python",
   "name": "python",
   "nbconvert_exporter": "python",
   "pygments_lexer": "ipython3",
   "version": "3.8.10"
  },
  "orig_nbformat": 4,
  "vscode": {
   "interpreter": {
    "hash": "916dbcbb3f70747c44a77c7bcd40155683ae19c65e1c03b4aa3499c5328201f1"
   }
  }
 },
 "nbformat": 4,
 "nbformat_minor": 2
}

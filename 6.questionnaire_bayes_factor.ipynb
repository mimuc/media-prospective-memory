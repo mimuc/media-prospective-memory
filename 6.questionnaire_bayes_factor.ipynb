{
 "cells": [
  {
   "cell_type": "markdown",
   "metadata": {},
   "source": [
    "```\n",
    "# Copyright 2022 by the author(s) of CHI2023 submission \"Short-Form\n",
    "# Videos Degrade Our Capacity to Retain Intentions: Effect of Context\n",
    "# Switching On Prospective Memory\". All rights reserved.\n",
    "#\n",
    "# Use of this source code is governed by a GPLv3 license that\n",
    "# can be found in the LICENSE file.\n",
    "```"
   ]
  },
  {
   "cell_type": "code",
   "execution_count": 5,
   "metadata": {
    "vscode": {
     "languageId": "r"
    }
   },
   "outputs": [],
   "source": [
    "library(BayesFactor)\n",
    "library(report)"
   ]
  },
  {
   "cell_type": "code",
   "execution_count": 6,
   "metadata": {
    "vscode": {
     "languageId": "r"
    }
   },
   "outputs": [
    {
     "data": {
      "text/html": [
       "<table class=\"dataframe\">\n",
       "<caption>A data.frame: 60 × 10</caption>\n",
       "<thead>\n",
       "\t<tr><th scope=col>folder_id</th><th scope=col>interrupt</th><th scope=col>SUQ</th><th scope=col>BSMARS</th><th scope=col>META_CC</th><th scope=col>META_POS</th><th scope=col>META_CSC</th><th scope=col>META_NEG</th><th scope=col>META_NC</th><th scope=col>ENGAGE</th></tr>\n",
       "\t<tr><th scope=col>&lt;int&gt;</th><th scope=col>&lt;chr&gt;</th><th scope=col>&lt;dbl&gt;</th><th scope=col>&lt;dbl&gt;</th><th scope=col>&lt;dbl&gt;</th><th scope=col>&lt;dbl&gt;</th><th scope=col>&lt;dbl&gt;</th><th scope=col>&lt;dbl&gt;</th><th scope=col>&lt;dbl&gt;</th><th scope=col>&lt;int&gt;</th></tr>\n",
       "</thead>\n",
       "<tbody>\n",
       "\t<tr><td>101</td><td>rest   </td><td>4.5</td><td>15</td><td>14</td><td>21</td><td>16</td><td>15</td><td> 8</td><td>5</td></tr>\n",
       "\t<tr><td>102</td><td>rest   </td><td>4.9</td><td> 6</td><td>10</td><td>15</td><td>20</td><td>11</td><td> 9</td><td>3</td></tr>\n",
       "\t<tr><td>103</td><td>rest   </td><td>1.9</td><td> 9</td><td>11</td><td>12</td><td>16</td><td>11</td><td>11</td><td>4</td></tr>\n",
       "\t<tr><td>104</td><td>rest   </td><td>3.6</td><td> 8</td><td> 9</td><td>12</td><td>12</td><td>11</td><td>12</td><td>5</td></tr>\n",
       "\t<tr><td>105</td><td>rest   </td><td>4.4</td><td> 8</td><td>11</td><td>11</td><td>11</td><td> 7</td><td> 6</td><td>1</td></tr>\n",
       "\t<tr><td>106</td><td>rest   </td><td>4.3</td><td>13</td><td> 9</td><td>11</td><td>13</td><td> 7</td><td> 8</td><td>3</td></tr>\n",
       "\t<tr><td>107</td><td>rest   </td><td>2.1</td><td> 5</td><td>11</td><td> 8</td><td>14</td><td> 8</td><td> 9</td><td>3</td></tr>\n",
       "\t<tr><td>108</td><td>rest   </td><td>6.1</td><td>17</td><td> 9</td><td> 9</td><td>20</td><td>20</td><td>17</td><td>5</td></tr>\n",
       "\t<tr><td>109</td><td>rest   </td><td>3.6</td><td> 5</td><td>15</td><td>17</td><td>16</td><td>17</td><td>10</td><td>1</td></tr>\n",
       "\t<tr><td>110</td><td>rest   </td><td>4.7</td><td>11</td><td>18</td><td>15</td><td>20</td><td>15</td><td>12</td><td>4</td></tr>\n",
       "\t<tr><td>111</td><td>rest   </td><td>3.8</td><td> 6</td><td> 7</td><td> 5</td><td>14</td><td>11</td><td>12</td><td>1</td></tr>\n",
       "\t<tr><td>112</td><td>rest   </td><td>4.2</td><td>14</td><td>12</td><td>14</td><td>12</td><td>18</td><td>17</td><td>4</td></tr>\n",
       "\t<tr><td>113</td><td>rest   </td><td>3.9</td><td>18</td><td>17</td><td>16</td><td>14</td><td>17</td><td>10</td><td>4</td></tr>\n",
       "\t<tr><td>114</td><td>rest   </td><td>1.6</td><td> 8</td><td>11</td><td> 8</td><td>21</td><td>18</td><td>15</td><td>3</td></tr>\n",
       "\t<tr><td>115</td><td>rest   </td><td>3.4</td><td> 7</td><td>10</td><td> 6</td><td>24</td><td>11</td><td>14</td><td>1</td></tr>\n",
       "\t<tr><td>201</td><td>tiktok </td><td>5.5</td><td>15</td><td>20</td><td>15</td><td>16</td><td>20</td><td>13</td><td>2</td></tr>\n",
       "\t<tr><td>202</td><td>tiktok </td><td>6.8</td><td>16</td><td>17</td><td>21</td><td>11</td><td>23</td><td>19</td><td>3</td></tr>\n",
       "\t<tr><td>203</td><td>tiktok </td><td>5.4</td><td>17</td><td>13</td><td> 7</td><td>13</td><td>11</td><td> 7</td><td>3</td></tr>\n",
       "\t<tr><td>204</td><td>tiktok </td><td>4.8</td><td>12</td><td>12</td><td>11</td><td>17</td><td>16</td><td> 8</td><td>2</td></tr>\n",
       "\t<tr><td>205</td><td>tiktok </td><td>3.8</td><td>11</td><td>16</td><td>18</td><td>24</td><td>17</td><td>11</td><td>5</td></tr>\n",
       "\t<tr><td>206</td><td>tiktok </td><td>4.0</td><td>10</td><td> 7</td><td>13</td><td>13</td><td>12</td><td> 9</td><td>4</td></tr>\n",
       "\t<tr><td>207</td><td>tiktok </td><td>4.9</td><td>12</td><td> 8</td><td>14</td><td>17</td><td>13</td><td>10</td><td>4</td></tr>\n",
       "\t<tr><td>208</td><td>tiktok </td><td>4.5</td><td> 7</td><td>16</td><td>14</td><td>19</td><td>16</td><td> 8</td><td>4</td></tr>\n",
       "\t<tr><td>209</td><td>tiktok </td><td>4.8</td><td>16</td><td>10</td><td> 8</td><td> 8</td><td>10</td><td>12</td><td>3</td></tr>\n",
       "\t<tr><td>210</td><td>tiktok </td><td>4.1</td><td> 5</td><td> 8</td><td> 6</td><td>15</td><td> 9</td><td>12</td><td>4</td></tr>\n",
       "\t<tr><td>211</td><td>tiktok </td><td>6.2</td><td>17</td><td>11</td><td>17</td><td>21</td><td>22</td><td>13</td><td>5</td></tr>\n",
       "\t<tr><td>212</td><td>tiktok </td><td>3.9</td><td>11</td><td>14</td><td>15</td><td>17</td><td>16</td><td>12</td><td>4</td></tr>\n",
       "\t<tr><td>213</td><td>tiktok </td><td>5.0</td><td>13</td><td>11</td><td>10</td><td>14</td><td>19</td><td>12</td><td>4</td></tr>\n",
       "\t<tr><td>214</td><td>tiktok </td><td>4.0</td><td>10</td><td> 8</td><td> 6</td><td>12</td><td>13</td><td> 6</td><td>2</td></tr>\n",
       "\t<tr><td>215</td><td>tiktok </td><td>3.6</td><td> 9</td><td> 9</td><td>11</td><td>18</td><td> 7</td><td> 6</td><td>2</td></tr>\n",
       "\t<tr><td>301</td><td>youtube</td><td>4.0</td><td> 7</td><td> 9</td><td>22</td><td>19</td><td> 7</td><td>12</td><td>5</td></tr>\n",
       "\t<tr><td>302</td><td>youtube</td><td>4.8</td><td>12</td><td>12</td><td>10</td><td>15</td><td>10</td><td>12</td><td>4</td></tr>\n",
       "\t<tr><td>303</td><td>youtube</td><td>3.7</td><td>14</td><td>11</td><td>12</td><td>16</td><td>16</td><td>12</td><td>3</td></tr>\n",
       "\t<tr><td>304</td><td>youtube</td><td>2.2</td><td> 9</td><td> 7</td><td>15</td><td>24</td><td>12</td><td>13</td><td>4</td></tr>\n",
       "\t<tr><td>305</td><td>youtube</td><td>5.2</td><td>16</td><td>16</td><td>15</td><td>12</td><td>15</td><td>13</td><td>5</td></tr>\n",
       "\t<tr><td>306</td><td>youtube</td><td>6.2</td><td>17</td><td>16</td><td>11</td><td>15</td><td>22</td><td>18</td><td>5</td></tr>\n",
       "\t<tr><td>307</td><td>youtube</td><td>3.8</td><td> 8</td><td> 9</td><td>14</td><td>14</td><td> 6</td><td> 7</td><td>5</td></tr>\n",
       "\t<tr><td>308</td><td>youtube</td><td>4.0</td><td>11</td><td> 8</td><td> 8</td><td>11</td><td>11</td><td>10</td><td>5</td></tr>\n",
       "\t<tr><td>309</td><td>youtube</td><td>4.9</td><td> 9</td><td>17</td><td>12</td><td>17</td><td> 9</td><td>10</td><td>5</td></tr>\n",
       "\t<tr><td>310</td><td>youtube</td><td>2.9</td><td>12</td><td>22</td><td>19</td><td>23</td><td>24</td><td>16</td><td>5</td></tr>\n",
       "\t<tr><td>311</td><td>youtube</td><td>5.6</td><td> 8</td><td>18</td><td>16</td><td>17</td><td>19</td><td>16</td><td>3</td></tr>\n",
       "\t<tr><td>312</td><td>youtube</td><td>5.2</td><td>16</td><td>17</td><td>16</td><td>13</td><td>17</td><td>13</td><td>4</td></tr>\n",
       "\t<tr><td>313</td><td>youtube</td><td>6.1</td><td>12</td><td>13</td><td>11</td><td>19</td><td>15</td><td>15</td><td>3</td></tr>\n",
       "\t<tr><td>314</td><td>youtube</td><td>4.2</td><td>11</td><td> 6</td><td> 6</td><td>16</td><td> 6</td><td>14</td><td>2</td></tr>\n",
       "\t<tr><td>315</td><td>youtube</td><td>4.2</td><td>17</td><td>12</td><td> 9</td><td>23</td><td>14</td><td>11</td><td>5</td></tr>\n",
       "\t<tr><td>401</td><td>twitter</td><td>4.9</td><td>10</td><td>15</td><td>13</td><td>19</td><td> 9</td><td> 6</td><td>4</td></tr>\n",
       "\t<tr><td>402</td><td>twitter</td><td>5.6</td><td> 7</td><td> 7</td><td>13</td><td>17</td><td> 7</td><td> 8</td><td>4</td></tr>\n",
       "\t<tr><td>403</td><td>twitter</td><td>4.5</td><td>12</td><td> 9</td><td>18</td><td>19</td><td>13</td><td>11</td><td>4</td></tr>\n",
       "\t<tr><td>404</td><td>twitter</td><td>6.0</td><td>10</td><td>10</td><td>21</td><td>24</td><td>18</td><td>19</td><td>5</td></tr>\n",
       "\t<tr><td>405</td><td>twitter</td><td>4.7</td><td>12</td><td> 9</td><td> 6</td><td>13</td><td>14</td><td> 6</td><td>2</td></tr>\n",
       "\t<tr><td>406</td><td>twitter</td><td>4.6</td><td> 8</td><td> 8</td><td> 6</td><td>18</td><td> 9</td><td>13</td><td>3</td></tr>\n",
       "\t<tr><td>407</td><td>twitter</td><td>3.2</td><td>10</td><td> 6</td><td>12</td><td>24</td><td>19</td><td>16</td><td>1</td></tr>\n",
       "\t<tr><td>408</td><td>twitter</td><td>3.5</td><td> 9</td><td>12</td><td> 8</td><td>14</td><td>14</td><td>11</td><td>4</td></tr>\n",
       "\t<tr><td>409</td><td>twitter</td><td>3.9</td><td> 8</td><td>13</td><td>16</td><td>21</td><td>14</td><td>10</td><td>4</td></tr>\n",
       "\t<tr><td>410</td><td>twitter</td><td>4.3</td><td>12</td><td>12</td><td> 7</td><td>22</td><td>15</td><td> 7</td><td>3</td></tr>\n",
       "\t<tr><td>411</td><td>twitter</td><td>4.1</td><td>14</td><td>14</td><td>11</td><td>20</td><td>11</td><td>12</td><td>2</td></tr>\n",
       "\t<tr><td>412</td><td>twitter</td><td>4.8</td><td> 7</td><td>12</td><td>10</td><td>14</td><td>15</td><td> 9</td><td>2</td></tr>\n",
       "\t<tr><td>413</td><td>twitter</td><td>6.2</td><td>16</td><td>12</td><td>20</td><td>17</td><td>19</td><td>15</td><td>4</td></tr>\n",
       "\t<tr><td>414</td><td>twitter</td><td>4.0</td><td>15</td><td>15</td><td>11</td><td>13</td><td> 8</td><td>15</td><td>3</td></tr>\n",
       "\t<tr><td>415</td><td>twitter</td><td>3.2</td><td>14</td><td>14</td><td>11</td><td>12</td><td>10</td><td>11</td><td>3</td></tr>\n",
       "</tbody>\n",
       "</table>\n"
      ],
      "text/latex": [
       "A data.frame: 60 × 10\n",
       "\\begin{tabular}{llllllllll}\n",
       " folder\\_id & interrupt & SUQ & BSMARS & META\\_CC & META\\_POS & META\\_CSC & META\\_NEG & META\\_NC & ENGAGE\\\\\n",
       " <int> & <chr> & <dbl> & <dbl> & <dbl> & <dbl> & <dbl> & <dbl> & <dbl> & <int>\\\\\n",
       "\\hline\n",
       "\t 101 & rest    & 4.5 & 15 & 14 & 21 & 16 & 15 &  8 & 5\\\\\n",
       "\t 102 & rest    & 4.9 &  6 & 10 & 15 & 20 & 11 &  9 & 3\\\\\n",
       "\t 103 & rest    & 1.9 &  9 & 11 & 12 & 16 & 11 & 11 & 4\\\\\n",
       "\t 104 & rest    & 3.6 &  8 &  9 & 12 & 12 & 11 & 12 & 5\\\\\n",
       "\t 105 & rest    & 4.4 &  8 & 11 & 11 & 11 &  7 &  6 & 1\\\\\n",
       "\t 106 & rest    & 4.3 & 13 &  9 & 11 & 13 &  7 &  8 & 3\\\\\n",
       "\t 107 & rest    & 2.1 &  5 & 11 &  8 & 14 &  8 &  9 & 3\\\\\n",
       "\t 108 & rest    & 6.1 & 17 &  9 &  9 & 20 & 20 & 17 & 5\\\\\n",
       "\t 109 & rest    & 3.6 &  5 & 15 & 17 & 16 & 17 & 10 & 1\\\\\n",
       "\t 110 & rest    & 4.7 & 11 & 18 & 15 & 20 & 15 & 12 & 4\\\\\n",
       "\t 111 & rest    & 3.8 &  6 &  7 &  5 & 14 & 11 & 12 & 1\\\\\n",
       "\t 112 & rest    & 4.2 & 14 & 12 & 14 & 12 & 18 & 17 & 4\\\\\n",
       "\t 113 & rest    & 3.9 & 18 & 17 & 16 & 14 & 17 & 10 & 4\\\\\n",
       "\t 114 & rest    & 1.6 &  8 & 11 &  8 & 21 & 18 & 15 & 3\\\\\n",
       "\t 115 & rest    & 3.4 &  7 & 10 &  6 & 24 & 11 & 14 & 1\\\\\n",
       "\t 201 & tiktok  & 5.5 & 15 & 20 & 15 & 16 & 20 & 13 & 2\\\\\n",
       "\t 202 & tiktok  & 6.8 & 16 & 17 & 21 & 11 & 23 & 19 & 3\\\\\n",
       "\t 203 & tiktok  & 5.4 & 17 & 13 &  7 & 13 & 11 &  7 & 3\\\\\n",
       "\t 204 & tiktok  & 4.8 & 12 & 12 & 11 & 17 & 16 &  8 & 2\\\\\n",
       "\t 205 & tiktok  & 3.8 & 11 & 16 & 18 & 24 & 17 & 11 & 5\\\\\n",
       "\t 206 & tiktok  & 4.0 & 10 &  7 & 13 & 13 & 12 &  9 & 4\\\\\n",
       "\t 207 & tiktok  & 4.9 & 12 &  8 & 14 & 17 & 13 & 10 & 4\\\\\n",
       "\t 208 & tiktok  & 4.5 &  7 & 16 & 14 & 19 & 16 &  8 & 4\\\\\n",
       "\t 209 & tiktok  & 4.8 & 16 & 10 &  8 &  8 & 10 & 12 & 3\\\\\n",
       "\t 210 & tiktok  & 4.1 &  5 &  8 &  6 & 15 &  9 & 12 & 4\\\\\n",
       "\t 211 & tiktok  & 6.2 & 17 & 11 & 17 & 21 & 22 & 13 & 5\\\\\n",
       "\t 212 & tiktok  & 3.9 & 11 & 14 & 15 & 17 & 16 & 12 & 4\\\\\n",
       "\t 213 & tiktok  & 5.0 & 13 & 11 & 10 & 14 & 19 & 12 & 4\\\\\n",
       "\t 214 & tiktok  & 4.0 & 10 &  8 &  6 & 12 & 13 &  6 & 2\\\\\n",
       "\t 215 & tiktok  & 3.6 &  9 &  9 & 11 & 18 &  7 &  6 & 2\\\\\n",
       "\t 301 & youtube & 4.0 &  7 &  9 & 22 & 19 &  7 & 12 & 5\\\\\n",
       "\t 302 & youtube & 4.8 & 12 & 12 & 10 & 15 & 10 & 12 & 4\\\\\n",
       "\t 303 & youtube & 3.7 & 14 & 11 & 12 & 16 & 16 & 12 & 3\\\\\n",
       "\t 304 & youtube & 2.2 &  9 &  7 & 15 & 24 & 12 & 13 & 4\\\\\n",
       "\t 305 & youtube & 5.2 & 16 & 16 & 15 & 12 & 15 & 13 & 5\\\\\n",
       "\t 306 & youtube & 6.2 & 17 & 16 & 11 & 15 & 22 & 18 & 5\\\\\n",
       "\t 307 & youtube & 3.8 &  8 &  9 & 14 & 14 &  6 &  7 & 5\\\\\n",
       "\t 308 & youtube & 4.0 & 11 &  8 &  8 & 11 & 11 & 10 & 5\\\\\n",
       "\t 309 & youtube & 4.9 &  9 & 17 & 12 & 17 &  9 & 10 & 5\\\\\n",
       "\t 310 & youtube & 2.9 & 12 & 22 & 19 & 23 & 24 & 16 & 5\\\\\n",
       "\t 311 & youtube & 5.6 &  8 & 18 & 16 & 17 & 19 & 16 & 3\\\\\n",
       "\t 312 & youtube & 5.2 & 16 & 17 & 16 & 13 & 17 & 13 & 4\\\\\n",
       "\t 313 & youtube & 6.1 & 12 & 13 & 11 & 19 & 15 & 15 & 3\\\\\n",
       "\t 314 & youtube & 4.2 & 11 &  6 &  6 & 16 &  6 & 14 & 2\\\\\n",
       "\t 315 & youtube & 4.2 & 17 & 12 &  9 & 23 & 14 & 11 & 5\\\\\n",
       "\t 401 & twitter & 4.9 & 10 & 15 & 13 & 19 &  9 &  6 & 4\\\\\n",
       "\t 402 & twitter & 5.6 &  7 &  7 & 13 & 17 &  7 &  8 & 4\\\\\n",
       "\t 403 & twitter & 4.5 & 12 &  9 & 18 & 19 & 13 & 11 & 4\\\\\n",
       "\t 404 & twitter & 6.0 & 10 & 10 & 21 & 24 & 18 & 19 & 5\\\\\n",
       "\t 405 & twitter & 4.7 & 12 &  9 &  6 & 13 & 14 &  6 & 2\\\\\n",
       "\t 406 & twitter & 4.6 &  8 &  8 &  6 & 18 &  9 & 13 & 3\\\\\n",
       "\t 407 & twitter & 3.2 & 10 &  6 & 12 & 24 & 19 & 16 & 1\\\\\n",
       "\t 408 & twitter & 3.5 &  9 & 12 &  8 & 14 & 14 & 11 & 4\\\\\n",
       "\t 409 & twitter & 3.9 &  8 & 13 & 16 & 21 & 14 & 10 & 4\\\\\n",
       "\t 410 & twitter & 4.3 & 12 & 12 &  7 & 22 & 15 &  7 & 3\\\\\n",
       "\t 411 & twitter & 4.1 & 14 & 14 & 11 & 20 & 11 & 12 & 2\\\\\n",
       "\t 412 & twitter & 4.8 &  7 & 12 & 10 & 14 & 15 &  9 & 2\\\\\n",
       "\t 413 & twitter & 6.2 & 16 & 12 & 20 & 17 & 19 & 15 & 4\\\\\n",
       "\t 414 & twitter & 4.0 & 15 & 15 & 11 & 13 &  8 & 15 & 3\\\\\n",
       "\t 415 & twitter & 3.2 & 14 & 14 & 11 & 12 & 10 & 11 & 3\\\\\n",
       "\\end{tabular}\n"
      ],
      "text/markdown": [
       "\n",
       "A data.frame: 60 × 10\n",
       "\n",
       "| folder_id &lt;int&gt; | interrupt &lt;chr&gt; | SUQ &lt;dbl&gt; | BSMARS &lt;dbl&gt; | META_CC &lt;dbl&gt; | META_POS &lt;dbl&gt; | META_CSC &lt;dbl&gt; | META_NEG &lt;dbl&gt; | META_NC &lt;dbl&gt; | ENGAGE &lt;int&gt; |\n",
       "|---|---|---|---|---|---|---|---|---|---|\n",
       "| 101 | rest    | 4.5 | 15 | 14 | 21 | 16 | 15 |  8 | 5 |\n",
       "| 102 | rest    | 4.9 |  6 | 10 | 15 | 20 | 11 |  9 | 3 |\n",
       "| 103 | rest    | 1.9 |  9 | 11 | 12 | 16 | 11 | 11 | 4 |\n",
       "| 104 | rest    | 3.6 |  8 |  9 | 12 | 12 | 11 | 12 | 5 |\n",
       "| 105 | rest    | 4.4 |  8 | 11 | 11 | 11 |  7 |  6 | 1 |\n",
       "| 106 | rest    | 4.3 | 13 |  9 | 11 | 13 |  7 |  8 | 3 |\n",
       "| 107 | rest    | 2.1 |  5 | 11 |  8 | 14 |  8 |  9 | 3 |\n",
       "| 108 | rest    | 6.1 | 17 |  9 |  9 | 20 | 20 | 17 | 5 |\n",
       "| 109 | rest    | 3.6 |  5 | 15 | 17 | 16 | 17 | 10 | 1 |\n",
       "| 110 | rest    | 4.7 | 11 | 18 | 15 | 20 | 15 | 12 | 4 |\n",
       "| 111 | rest    | 3.8 |  6 |  7 |  5 | 14 | 11 | 12 | 1 |\n",
       "| 112 | rest    | 4.2 | 14 | 12 | 14 | 12 | 18 | 17 | 4 |\n",
       "| 113 | rest    | 3.9 | 18 | 17 | 16 | 14 | 17 | 10 | 4 |\n",
       "| 114 | rest    | 1.6 |  8 | 11 |  8 | 21 | 18 | 15 | 3 |\n",
       "| 115 | rest    | 3.4 |  7 | 10 |  6 | 24 | 11 | 14 | 1 |\n",
       "| 201 | tiktok  | 5.5 | 15 | 20 | 15 | 16 | 20 | 13 | 2 |\n",
       "| 202 | tiktok  | 6.8 | 16 | 17 | 21 | 11 | 23 | 19 | 3 |\n",
       "| 203 | tiktok  | 5.4 | 17 | 13 |  7 | 13 | 11 |  7 | 3 |\n",
       "| 204 | tiktok  | 4.8 | 12 | 12 | 11 | 17 | 16 |  8 | 2 |\n",
       "| 205 | tiktok  | 3.8 | 11 | 16 | 18 | 24 | 17 | 11 | 5 |\n",
       "| 206 | tiktok  | 4.0 | 10 |  7 | 13 | 13 | 12 |  9 | 4 |\n",
       "| 207 | tiktok  | 4.9 | 12 |  8 | 14 | 17 | 13 | 10 | 4 |\n",
       "| 208 | tiktok  | 4.5 |  7 | 16 | 14 | 19 | 16 |  8 | 4 |\n",
       "| 209 | tiktok  | 4.8 | 16 | 10 |  8 |  8 | 10 | 12 | 3 |\n",
       "| 210 | tiktok  | 4.1 |  5 |  8 |  6 | 15 |  9 | 12 | 4 |\n",
       "| 211 | tiktok  | 6.2 | 17 | 11 | 17 | 21 | 22 | 13 | 5 |\n",
       "| 212 | tiktok  | 3.9 | 11 | 14 | 15 | 17 | 16 | 12 | 4 |\n",
       "| 213 | tiktok  | 5.0 | 13 | 11 | 10 | 14 | 19 | 12 | 4 |\n",
       "| 214 | tiktok  | 4.0 | 10 |  8 |  6 | 12 | 13 |  6 | 2 |\n",
       "| 215 | tiktok  | 3.6 |  9 |  9 | 11 | 18 |  7 |  6 | 2 |\n",
       "| 301 | youtube | 4.0 |  7 |  9 | 22 | 19 |  7 | 12 | 5 |\n",
       "| 302 | youtube | 4.8 | 12 | 12 | 10 | 15 | 10 | 12 | 4 |\n",
       "| 303 | youtube | 3.7 | 14 | 11 | 12 | 16 | 16 | 12 | 3 |\n",
       "| 304 | youtube | 2.2 |  9 |  7 | 15 | 24 | 12 | 13 | 4 |\n",
       "| 305 | youtube | 5.2 | 16 | 16 | 15 | 12 | 15 | 13 | 5 |\n",
       "| 306 | youtube | 6.2 | 17 | 16 | 11 | 15 | 22 | 18 | 5 |\n",
       "| 307 | youtube | 3.8 |  8 |  9 | 14 | 14 |  6 |  7 | 5 |\n",
       "| 308 | youtube | 4.0 | 11 |  8 |  8 | 11 | 11 | 10 | 5 |\n",
       "| 309 | youtube | 4.9 |  9 | 17 | 12 | 17 |  9 | 10 | 5 |\n",
       "| 310 | youtube | 2.9 | 12 | 22 | 19 | 23 | 24 | 16 | 5 |\n",
       "| 311 | youtube | 5.6 |  8 | 18 | 16 | 17 | 19 | 16 | 3 |\n",
       "| 312 | youtube | 5.2 | 16 | 17 | 16 | 13 | 17 | 13 | 4 |\n",
       "| 313 | youtube | 6.1 | 12 | 13 | 11 | 19 | 15 | 15 | 3 |\n",
       "| 314 | youtube | 4.2 | 11 |  6 |  6 | 16 |  6 | 14 | 2 |\n",
       "| 315 | youtube | 4.2 | 17 | 12 |  9 | 23 | 14 | 11 | 5 |\n",
       "| 401 | twitter | 4.9 | 10 | 15 | 13 | 19 |  9 |  6 | 4 |\n",
       "| 402 | twitter | 5.6 |  7 |  7 | 13 | 17 |  7 |  8 | 4 |\n",
       "| 403 | twitter | 4.5 | 12 |  9 | 18 | 19 | 13 | 11 | 4 |\n",
       "| 404 | twitter | 6.0 | 10 | 10 | 21 | 24 | 18 | 19 | 5 |\n",
       "| 405 | twitter | 4.7 | 12 |  9 |  6 | 13 | 14 |  6 | 2 |\n",
       "| 406 | twitter | 4.6 |  8 |  8 |  6 | 18 |  9 | 13 | 3 |\n",
       "| 407 | twitter | 3.2 | 10 |  6 | 12 | 24 | 19 | 16 | 1 |\n",
       "| 408 | twitter | 3.5 |  9 | 12 |  8 | 14 | 14 | 11 | 4 |\n",
       "| 409 | twitter | 3.9 |  8 | 13 | 16 | 21 | 14 | 10 | 4 |\n",
       "| 410 | twitter | 4.3 | 12 | 12 |  7 | 22 | 15 |  7 | 3 |\n",
       "| 411 | twitter | 4.1 | 14 | 14 | 11 | 20 | 11 | 12 | 2 |\n",
       "| 412 | twitter | 4.8 |  7 | 12 | 10 | 14 | 15 |  9 | 2 |\n",
       "| 413 | twitter | 6.2 | 16 | 12 | 20 | 17 | 19 | 15 | 4 |\n",
       "| 414 | twitter | 4.0 | 15 | 15 | 11 | 13 |  8 | 15 | 3 |\n",
       "| 415 | twitter | 3.2 | 14 | 14 | 11 | 12 | 10 | 11 | 3 |\n",
       "\n"
      ],
      "text/plain": [
       "   folder_id interrupt SUQ BSMARS META_CC META_POS META_CSC META_NEG META_NC\n",
       "1  101       rest      4.5 15     14      21       16       15        8     \n",
       "2  102       rest      4.9  6     10      15       20       11        9     \n",
       "3  103       rest      1.9  9     11      12       16       11       11     \n",
       "4  104       rest      3.6  8      9      12       12       11       12     \n",
       "5  105       rest      4.4  8     11      11       11        7        6     \n",
       "6  106       rest      4.3 13      9      11       13        7        8     \n",
       "7  107       rest      2.1  5     11       8       14        8        9     \n",
       "8  108       rest      6.1 17      9       9       20       20       17     \n",
       "9  109       rest      3.6  5     15      17       16       17       10     \n",
       "10 110       rest      4.7 11     18      15       20       15       12     \n",
       "11 111       rest      3.8  6      7       5       14       11       12     \n",
       "12 112       rest      4.2 14     12      14       12       18       17     \n",
       "13 113       rest      3.9 18     17      16       14       17       10     \n",
       "14 114       rest      1.6  8     11       8       21       18       15     \n",
       "15 115       rest      3.4  7     10       6       24       11       14     \n",
       "16 201       tiktok    5.5 15     20      15       16       20       13     \n",
       "17 202       tiktok    6.8 16     17      21       11       23       19     \n",
       "18 203       tiktok    5.4 17     13       7       13       11        7     \n",
       "19 204       tiktok    4.8 12     12      11       17       16        8     \n",
       "20 205       tiktok    3.8 11     16      18       24       17       11     \n",
       "21 206       tiktok    4.0 10      7      13       13       12        9     \n",
       "22 207       tiktok    4.9 12      8      14       17       13       10     \n",
       "23 208       tiktok    4.5  7     16      14       19       16        8     \n",
       "24 209       tiktok    4.8 16     10       8        8       10       12     \n",
       "25 210       tiktok    4.1  5      8       6       15        9       12     \n",
       "26 211       tiktok    6.2 17     11      17       21       22       13     \n",
       "27 212       tiktok    3.9 11     14      15       17       16       12     \n",
       "28 213       tiktok    5.0 13     11      10       14       19       12     \n",
       "29 214       tiktok    4.0 10      8       6       12       13        6     \n",
       "30 215       tiktok    3.6  9      9      11       18        7        6     \n",
       "31 301       youtube   4.0  7      9      22       19        7       12     \n",
       "32 302       youtube   4.8 12     12      10       15       10       12     \n",
       "33 303       youtube   3.7 14     11      12       16       16       12     \n",
       "34 304       youtube   2.2  9      7      15       24       12       13     \n",
       "35 305       youtube   5.2 16     16      15       12       15       13     \n",
       "36 306       youtube   6.2 17     16      11       15       22       18     \n",
       "37 307       youtube   3.8  8      9      14       14        6        7     \n",
       "38 308       youtube   4.0 11      8       8       11       11       10     \n",
       "39 309       youtube   4.9  9     17      12       17        9       10     \n",
       "40 310       youtube   2.9 12     22      19       23       24       16     \n",
       "41 311       youtube   5.6  8     18      16       17       19       16     \n",
       "42 312       youtube   5.2 16     17      16       13       17       13     \n",
       "43 313       youtube   6.1 12     13      11       19       15       15     \n",
       "44 314       youtube   4.2 11      6       6       16        6       14     \n",
       "45 315       youtube   4.2 17     12       9       23       14       11     \n",
       "46 401       twitter   4.9 10     15      13       19        9        6     \n",
       "47 402       twitter   5.6  7      7      13       17        7        8     \n",
       "48 403       twitter   4.5 12      9      18       19       13       11     \n",
       "49 404       twitter   6.0 10     10      21       24       18       19     \n",
       "50 405       twitter   4.7 12      9       6       13       14        6     \n",
       "51 406       twitter   4.6  8      8       6       18        9       13     \n",
       "52 407       twitter   3.2 10      6      12       24       19       16     \n",
       "53 408       twitter   3.5  9     12       8       14       14       11     \n",
       "54 409       twitter   3.9  8     13      16       21       14       10     \n",
       "55 410       twitter   4.3 12     12       7       22       15        7     \n",
       "56 411       twitter   4.1 14     14      11       20       11       12     \n",
       "57 412       twitter   4.8  7     12      10       14       15        9     \n",
       "58 413       twitter   6.2 16     12      20       17       19       15     \n",
       "59 414       twitter   4.0 15     15      11       13        8       15     \n",
       "60 415       twitter   3.2 14     14      11       12       10       11     \n",
       "   ENGAGE\n",
       "1  5     \n",
       "2  3     \n",
       "3  4     \n",
       "4  5     \n",
       "5  1     \n",
       "6  3     \n",
       "7  3     \n",
       "8  5     \n",
       "9  1     \n",
       "10 4     \n",
       "11 1     \n",
       "12 4     \n",
       "13 4     \n",
       "14 3     \n",
       "15 1     \n",
       "16 2     \n",
       "17 3     \n",
       "18 3     \n",
       "19 2     \n",
       "20 5     \n",
       "21 4     \n",
       "22 4     \n",
       "23 4     \n",
       "24 3     \n",
       "25 4     \n",
       "26 5     \n",
       "27 4     \n",
       "28 4     \n",
       "29 2     \n",
       "30 2     \n",
       "31 5     \n",
       "32 4     \n",
       "33 3     \n",
       "34 4     \n",
       "35 5     \n",
       "36 5     \n",
       "37 5     \n",
       "38 5     \n",
       "39 5     \n",
       "40 5     \n",
       "41 3     \n",
       "42 4     \n",
       "43 3     \n",
       "44 2     \n",
       "45 5     \n",
       "46 4     \n",
       "47 4     \n",
       "48 4     \n",
       "49 5     \n",
       "50 2     \n",
       "51 3     \n",
       "52 1     \n",
       "53 4     \n",
       "54 4     \n",
       "55 3     \n",
       "56 2     \n",
       "57 2     \n",
       "58 4     \n",
       "59 3     \n",
       "60 3     "
      ]
     },
     "metadata": {},
     "output_type": "display_data"
    }
   ],
   "source": [
    "df <- read.csv(\"data/q.csv\")\n",
    "df"
   ]
  },
  {
   "cell_type": "code",
   "execution_count": 7,
   "metadata": {
    "vscode": {
     "languageId": "r"
    }
   },
   "outputs": [],
   "source": [
    "# df$interrupt <- factor(df$interrupt, levels=c('rest', 'twitter', 'youtube', 'tiktok'))\n",
    "df$interrupt <- as.factor(df$interrupt)"
   ]
  },
  {
   "cell_type": "code",
   "execution_count": 8,
   "metadata": {
    "vscode": {
     "languageId": "r"
    }
   },
   "outputs": [
    {
     "data": {
      "image/png": "[encoded data removed]",
      "text/plain": [
       "plot without title"
      ]
     },
     "metadata": {
      "image/png": {
       "height": 420,
       "width": 420
      }
     },
     "output_type": "display_data"
    }
   ],
   "source": [
    "plot(ENGAGE ~ interrupt, data = df)"
   ]
  },
  {
   "cell_type": "code",
   "execution_count": 9,
   "metadata": {
    "vscode": {
     "languageId": "r"
    }
   },
   "outputs": [
    {
     "data": {
      "text/plain": [
       "            Df Sum Sq Mean Sq F value Pr(>F)  \n",
       "interrupt    3  10.85   3.617   2.592 0.0617 .\n",
       "Residuals   56  78.13   1.395                 \n",
       "---\n",
       "Signif. codes:  0 ‘***’ 0.001 ‘**’ 0.01 ‘*’ 0.05 ‘.’ 0.1 ‘ ’ 1"
      ]
     },
     "metadata": {},
     "output_type": "display_data"
    }
   ],
   "source": [
    "summary(aov(ENGAGE ~ interrupt, data = df))"
   ]
  },
  {
   "cell_type": "code",
   "execution_count": 10,
   "metadata": {
    "vscode": {
     "languageId": "r"
    }
   },
   "outputs": [
    {
     "data": {
      "text/plain": [
       "Bayes factor analysis\n",
       "--------------\n",
       "[1] interrupt : 1.12921 ±0%\n",
       "\n",
       "Against denominator:\n",
       "  Intercept only \n",
       "---\n",
       "Bayes factor type: BFlinearModel, JZS\n"
      ]
     },
     "metadata": {},
     "output_type": "display_data"
    }
   ],
   "source": [
    "bf <- anovaBF(ENGAGE ~ interrupt, data = df)\n",
    "bf"
   ]
  },
  {
   "cell_type": "code",
   "execution_count": 11,
   "metadata": {
    "vscode": {
     "languageId": "r"
    }
   },
   "outputs": [
    {
     "data": {
      "text/plain": [
       "            Df Sum Sq Mean Sq F value Pr(>F)\n",
       "interrupt    3   41.9   13.98   1.065  0.371\n",
       "Residuals   56  734.8   13.12               "
      ]
     },
     "metadata": {},
     "output_type": "display_data"
    }
   ],
   "source": [
    "summary(aov(BSMARS ~ interrupt, data = df))"
   ]
  },
  {
   "cell_type": "code",
   "execution_count": 12,
   "metadata": {
    "vscode": {
     "languageId": "r"
    }
   },
   "outputs": [
    {
     "data": {
      "text/plain": [
       "Bayes factor analysis\n",
       "--------------\n",
       "[1] interrupt : 0.2562115 ±0%\n",
       "\n",
       "Against denominator:\n",
       "  Intercept only \n",
       "---\n",
       "Bayes factor type: BFlinearModel, JZS\n"
      ]
     },
     "metadata": {},
     "output_type": "display_data"
    }
   ],
   "source": [
    "bf <- anovaBF(BSMARS ~ interrupt, data = df)\n",
    "bf"
   ]
  },
  {
   "cell_type": "code",
   "execution_count": 13,
   "metadata": {
    "vscode": {
     "languageId": "r"
    }
   },
   "outputs": [
    {
     "data": {
      "text/plain": [
       "            Df Sum Sq Mean Sq F value Pr(>F)  \n",
       "interrupt    3   7.47   2.488   2.267 0.0907 .\n",
       "Residuals   56  61.47   1.098                 \n",
       "---\n",
       "Signif. codes:  0 ‘***’ 0.001 ‘**’ 0.01 ‘*’ 0.05 ‘.’ 0.1 ‘ ’ 1"
      ]
     },
     "metadata": {},
     "output_type": "display_data"
    }
   ],
   "source": [
    "summary(aov(SUQ ~ interrupt, data = df))"
   ]
  },
  {
   "cell_type": "code",
   "execution_count": 14,
   "metadata": {
    "vscode": {
     "languageId": "r"
    }
   },
   "outputs": [
    {
     "data": {
      "text/plain": [
       "Bayes factor analysis\n",
       "--------------\n",
       "[1] interrupt : 0.8243245 ±0%\n",
       "\n",
       "Against denominator:\n",
       "  Intercept only \n",
       "---\n",
       "Bayes factor type: BFlinearModel, JZS\n"
      ]
     },
     "metadata": {},
     "output_type": "display_data"
    }
   ],
   "source": [
    "bf <- anovaBF(SUQ ~ interrupt, data = df)\n",
    "bf"
   ]
  }
 ],
 "metadata": {
  "kernelspec": {
   "display_name": "R",
   "language": "R",
   "name": "ir"
  },
  "language_info": {
   "codemirror_mode": "r",
   "file_extension": ".r",
   "mimetype": "text/x-r-source",
   "name": "R",
   "pygments_lexer": "r",
   "version": "4.2.1"
  },
  "orig_nbformat": 4
 },
 "nbformat": 4,
 "nbformat_minor": 2
}
